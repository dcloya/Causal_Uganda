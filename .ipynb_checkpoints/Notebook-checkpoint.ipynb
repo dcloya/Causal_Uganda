{
 "cells": [
  {
   "cell_type": "code",
   "execution_count": 1,
   "metadata": {},
   "outputs": [
    {
     "data": {
      "text/html": [
       "'/Users/williamkrinsman/Repositories/Causal_Uganda'"
      ],
      "text/latex": [
       "'/Users/williamkrinsman/Repositories/Causal\\_Uganda'"
      ],
      "text/markdown": [
       "'/Users/williamkrinsman/Repositories/Causal_Uganda'"
      ],
      "text/plain": [
       "[1] \"/Users/williamkrinsman/Repositories/Causal_Uganda\""
      ]
     },
     "metadata": {},
     "output_type": "display_data"
    },
    {
     "name": "stderr",
     "output_type": "stream",
     "text": [
      "Loaded glmnet 2.0-13\n",
      "\n"
     ]
    }
   ],
   "source": [
    "rm(list=ls())\n",
    "# William: commented out below for notebook\n",
    "# knitr::opts_chunk$set(echo = TRUE)\n",
    "getwd()\n",
    "options(scipen = 10)\n",
    "# William: prevent excessive verbosity\n",
    "suppressMessages(\n",
    "  library(tmle)\n",
    "  )\n",
    "# William: prevent excessive verbosity\n",
    "suppressMessages(\n",
    "  library(ggplot2)\n",
    ")\n",
    "library(SuperLearner)\n",
    "# William: prevent excessive verbosity\n",
    "suppressMessages(\n",
    "  library(dplyr)\n",
    "  )\n",
    "library(magrittr)\n",
    "library(knitr)\n",
    "library(foreign)\n",
    "library(ck37r)\n",
    "suppressMessages(\n",
    "  library(sl3)\n",
    "  )\n",
    "suppressMessages(\n",
    "  library(arm)\n",
    "  )\n",
    "# Prevent verbosity from caret\n",
    "library(lattice)\n",
    "library(caret)\n",
    "suppressMessages(\n",
    "  library(data.table)\n",
    "  )\n",
    "library(screening)\n",
    "# William: added this line so that SuperLearner calls will work\n",
    "suppressMessages(\n",
    "  library(xgboost)\n",
    "  )\n",
    "# William: added these two lines to prevent unnecessary warnings when screening() is called\n",
    "library(foreach)\n",
    "library(glmnet)\n"
   ]
  },
  {
   "cell_type": "code",
   "execution_count": 2,
   "metadata": {},
   "outputs": [],
   "source": [
    "data <- read.dta(\"Data/SEED_endline_analysis.dta\", convert.factors = FALSE, convert.underscore = FALSE)\n",
    "data <- data.frame(data)"
   ]
  },
  {
   "cell_type": "code",
   "execution_count": 3,
   "metadata": {},
   "outputs": [
    {
     "data": {
      "text/html": [
       "<dl>\n",
       "\t<dt>$outcome</dt>\n",
       "\t\t<dd><ol class=list-inline>\n",
       "\t<li>'ever_self_employed'</li>\n",
       "\t<li>'log_tot'</li>\n",
       "</ol>\n",
       "</dd>\n",
       "\t<dt>$treatment</dt>\n",
       "\t\t<dd>'treated'</dd>\n",
       "\t<dt>$covars</dt>\n",
       "\t\t<dd><ol class=list-inline>\n",
       "\t<li>'treated'</li>\n",
       "\t<li>'gender'</li>\n",
       "\t<li>'age'</li>\n",
       "\t<li>'q06_dayorboarding'</li>\n",
       "\t<li>'q25_family_business'</li>\n",
       "\t<li>'q25a_wk_family_bus'</li>\n",
       "\t<li>'timeprefs_patience'</li>\n",
       "\t<li>'riskbehavior'</li>\n",
       "\t<li>'mathbusiness'</li>\n",
       "\t<li>'leadership'</li>\n",
       "\t<li>'perceivedcontrol'</li>\n",
       "\t<li>'timeprefs_delta'</li>\n",
       "\t<li>'timeprefs_beta'</li>\n",
       "\t<li>'prosocialbehavior'</li>\n",
       "\t<li>'anxiety'</li>\n",
       "\t<li>'selfconfidence'</li>\n",
       "\t<li>'big5extroversion'</li>\n",
       "\t<li>'big5emostability'</li>\n",
       "\t<li>'big5openness'</li>\n",
       "\t<li>'big5conscientious'</li>\n",
       "\t<li>'big5agreeable'</li>\n",
       "\t<li>'schoolacceptance'</li>\n",
       "\t<li>'currfamwealthstep'</li>\n",
       "\t<li>'tenyrwealthstep'</li>\n",
       "\t<li>'takingriskstep'</li>\n",
       "\t<li>'ravenscore'</li>\n",
       "\t<li>'father_educ2'</li>\n",
       "\t<li>'father_educ3'</li>\n",
       "\t<li>'father_educ4'</li>\n",
       "\t<li>'father_educ5'</li>\n",
       "\t<li>'father_income2'</li>\n",
       "\t<li>'father_income3'</li>\n",
       "\t<li>'mother_income2'</li>\n",
       "\t<li>'mother_income3'</li>\n",
       "\t<li>'type_house'</li>\n",
       "\t<li>'q13_olevelscore2'</li>\n",
       "\t<li>'q13_olevelscore34'</li>\n",
       "</ol>\n",
       "</dd>\n",
       "</dl>\n"
      ],
      "text/latex": [
       "\\begin{description}\n",
       "\\item[\\$outcome] \\begin{enumerate*}\n",
       "\\item 'ever\\_self\\_employed'\n",
       "\\item 'log\\_tot'\n",
       "\\end{enumerate*}\n",
       "\n",
       "\\item[\\$treatment] 'treated'\n",
       "\\item[\\$covars] \\begin{enumerate*}\n",
       "\\item 'treated'\n",
       "\\item 'gender'\n",
       "\\item 'age'\n",
       "\\item 'q06\\_dayorboarding'\n",
       "\\item 'q25\\_family\\_business'\n",
       "\\item 'q25a\\_wk\\_family\\_bus'\n",
       "\\item 'timeprefs\\_patience'\n",
       "\\item 'riskbehavior'\n",
       "\\item 'mathbusiness'\n",
       "\\item 'leadership'\n",
       "\\item 'perceivedcontrol'\n",
       "\\item 'timeprefs\\_delta'\n",
       "\\item 'timeprefs\\_beta'\n",
       "\\item 'prosocialbehavior'\n",
       "\\item 'anxiety'\n",
       "\\item 'selfconfidence'\n",
       "\\item 'big5extroversion'\n",
       "\\item 'big5emostability'\n",
       "\\item 'big5openness'\n",
       "\\item 'big5conscientious'\n",
       "\\item 'big5agreeable'\n",
       "\\item 'schoolacceptance'\n",
       "\\item 'currfamwealthstep'\n",
       "\\item 'tenyrwealthstep'\n",
       "\\item 'takingriskstep'\n",
       "\\item 'ravenscore'\n",
       "\\item 'father\\_educ2'\n",
       "\\item 'father\\_educ3'\n",
       "\\item 'father\\_educ4'\n",
       "\\item 'father\\_educ5'\n",
       "\\item 'father\\_income2'\n",
       "\\item 'father\\_income3'\n",
       "\\item 'mother\\_income2'\n",
       "\\item 'mother\\_income3'\n",
       "\\item 'type\\_house'\n",
       "\\item 'q13\\_olevelscore2'\n",
       "\\item 'q13\\_olevelscore34'\n",
       "\\end{enumerate*}\n",
       "\n",
       "\\end{description}\n"
      ],
      "text/markdown": [
       "$outcome\n",
       ":   1. 'ever_self_employed'\n",
       "2. 'log_tot'\n",
       "\n",
       "\n",
       "\n",
       "$treatment\n",
       ":   'treated'\n",
       "$covars\n",
       ":   1. 'treated'\n",
       "2. 'gender'\n",
       "3. 'age'\n",
       "4. 'q06_dayorboarding'\n",
       "5. 'q25_family_business'\n",
       "6. 'q25a_wk_family_bus'\n",
       "7. 'timeprefs_patience'\n",
       "8. 'riskbehavior'\n",
       "9. 'mathbusiness'\n",
       "10. 'leadership'\n",
       "11. 'perceivedcontrol'\n",
       "12. 'timeprefs_delta'\n",
       "13. 'timeprefs_beta'\n",
       "14. 'prosocialbehavior'\n",
       "15. 'anxiety'\n",
       "16. 'selfconfidence'\n",
       "17. 'big5extroversion'\n",
       "18. 'big5emostability'\n",
       "19. 'big5openness'\n",
       "20. 'big5conscientious'\n",
       "21. 'big5agreeable'\n",
       "22. 'schoolacceptance'\n",
       "23. 'currfamwealthstep'\n",
       "24. 'tenyrwealthstep'\n",
       "25. 'takingriskstep'\n",
       "26. 'ravenscore'\n",
       "27. 'father_educ2'\n",
       "28. 'father_educ3'\n",
       "29. 'father_educ4'\n",
       "30. 'father_educ5'\n",
       "31. 'father_income2'\n",
       "32. 'father_income3'\n",
       "33. 'mother_income2'\n",
       "34. 'mother_income3'\n",
       "35. 'type_house'\n",
       "36. 'q13_olevelscore2'\n",
       "37. 'q13_olevelscore34'\n",
       "\n",
       "\n",
       "\n",
       "\n",
       "\n"
      ],
      "text/plain": [
       "$outcome\n",
       "[1] \"ever_self_employed\" \"log_tot\"           \n",
       "\n",
       "$treatment\n",
       "[1] \"treated\"\n",
       "\n",
       "$covars\n",
       " [1] \"treated\"             \"gender\"              \"age\"                \n",
       " [4] \"q06_dayorboarding\"   \"q25_family_business\" \"q25a_wk_family_bus\" \n",
       " [7] \"timeprefs_patience\"  \"riskbehavior\"        \"mathbusiness\"       \n",
       "[10] \"leadership\"          \"perceivedcontrol\"    \"timeprefs_delta\"    \n",
       "[13] \"timeprefs_beta\"      \"prosocialbehavior\"   \"anxiety\"            \n",
       "[16] \"selfconfidence\"      \"big5extroversion\"    \"big5emostability\"   \n",
       "[19] \"big5openness\"        \"big5conscientious\"   \"big5agreeable\"      \n",
       "[22] \"schoolacceptance\"    \"currfamwealthstep\"   \"tenyrwealthstep\"    \n",
       "[25] \"takingriskstep\"      \"ravenscore\"          \"father_educ2\"       \n",
       "[28] \"father_educ3\"        \"father_educ4\"        \"father_educ5\"       \n",
       "[31] \"father_income2\"      \"father_income3\"      \"mother_income2\"     \n",
       "[34] \"mother_income3\"      \"type_house\"          \"q13_olevelscore2\"   \n",
       "[37] \"q13_olevelscore34\"  \n"
      ]
     },
     "metadata": {},
     "output_type": "display_data"
    }
   ],
   "source": [
    "# List to hold the different column names.\n",
    "(names = list(\n",
    "  # Outcomes of interest\n",
    "  outcome = c(\"ever_self_employed\",\"log_tot\"),\n",
    "\n",
    "  # Treatment variable\n",
    "  treatment = \"treated\",\n",
    "\n",
    "  # Adjustment covariates\n",
    "  covars = c(\"treated\",\"gender\",\"age\",\"q06_dayorboarding\",\"q25_family_business\",\"q25a_wk_family_bus\",\"timeprefs_patience\",\"riskbehavior\",\"mathbusiness\",\"leadership\",\"perceivedcontrol\",\"timeprefs_delta\",\"timeprefs_beta\",\"prosocialbehavior\",\"anxiety\",\"selfconfidence\",\"big5extroversion\",\"big5emostability\",\"big5openness\",\"big5conscientious\",\"big5agreeable\",\"schoolacceptance\",\"currfamwealthstep\",\"tenyrwealthstep\",\"takingriskstep\",\"ravenscore\",\"father_educ2\",\"father_educ3\",\"father_educ4\",\"father_educ5\",\"father_income2\",\"father_income3\",\"mother_income2\",\"mother_income3\",\"type_house\",\"q13_olevelscore2\",\"q13_olevelscore34\")\n",
    "))"
   ]
  },
  {
   "cell_type": "code",
   "execution_count": 4,
   "metadata": {},
   "outputs": [
    {
     "data": {
      "text/html": [
       "<dl class=dl-horizontal>\n",
       "\t<dt>ever_self_employed</dt>\n",
       "\t\t<dd>0</dd>\n",
       "\t<dt>log_tot</dt>\n",
       "\t\t<dd>712</dd>\n",
       "\t<dt>treated</dt>\n",
       "\t\t<dd>0</dd>\n",
       "</dl>\n"
      ],
      "text/latex": [
       "\\begin{description*}\n",
       "\\item[ever\\textbackslash{}\\_self\\textbackslash{}\\_employed] 0\n",
       "\\item[log\\textbackslash{}\\_tot] 712\n",
       "\\item[treated] 0\n",
       "\\end{description*}\n"
      ],
      "text/markdown": [
       "ever_self_employed\n",
       ":   0log_tot\n",
       ":   712treated\n",
       ":   0\n",
       "\n"
      ],
      "text/plain": [
       "ever_self_employed            log_tot            treated \n",
       "                 0                712                  0 "
      ]
     },
     "metadata": {},
     "output_type": "display_data"
    }
   ],
   "source": [
    "# Keep variables of interest\n",
    "\n",
    "data <- subset(data, select = c(names$outcome, names$treatment, names$covars))\n",
    "# Review missing values in id, outcome, treatment, and censoring variables.\n",
    "# Outcome is the only variable that can have missing values.\n",
    "colSums(is.na(data[, c(names$outcome, names$censoring, names$treatment)]))"
   ]
  },
  {
   "cell_type": "code",
   "execution_count": 5,
   "metadata": {},
   "outputs": [
    {
     "data": {
      "text/html": [
       "<ol class=list-inline>\n",
       "\t<li>3891</li>\n",
       "\t<li>40</li>\n",
       "</ol>\n"
      ],
      "text/latex": [
       "\\begin{enumerate*}\n",
       "\\item 3891\n",
       "\\item 40\n",
       "\\end{enumerate*}\n"
      ],
      "text/markdown": [
       "1. 3891\n",
       "2. 40\n",
       "\n",
       "\n"
      ],
      "text/plain": [
       "[1] 3891   40"
      ]
     },
     "metadata": {},
     "output_type": "display_data"
    },
    {
     "data": {
      "text/plain": [
       " ever_self_employed    log_tot          treated         treated.1     \n",
       " Min.   :0.0000     Min.   : 1.028   Min.   :0.0000   Min.   :0.0000  \n",
       " 1st Qu.:0.0000     1st Qu.: 6.580   1st Qu.:0.0000   1st Qu.:0.0000  \n",
       " Median :1.0000     Median : 7.681   Median :1.0000   Median :1.0000  \n",
       " Mean   :0.5474     Mean   : 7.593   Mean   :0.7376   Mean   :0.7376  \n",
       " 3rd Qu.:1.0000     3rd Qu.: 8.645   3rd Qu.:1.0000   3rd Qu.:1.0000  \n",
       " Max.   :1.0000     Max.   :11.018   Max.   :1.0000   Max.   :1.0000  \n",
       "                    NA's   :712                                       \n",
       "     gender            age        q06_dayorboarding q25_family_business\n",
       " Min.   :0.0000   Min.   :20.00   Min.   :0.0000    Min.   :0.0000     \n",
       " 1st Qu.:0.0000   1st Qu.:22.00   1st Qu.:0.0000    1st Qu.:0.0000     \n",
       " Median :0.0000   Median :23.00   Median :1.0000    Median :1.0000     \n",
       " Mean   :0.3482   Mean   :23.51   Mean   :0.7396    Mean   :0.5193     \n",
       " 3rd Qu.:1.0000   3rd Qu.:24.00   3rd Qu.:1.0000    3rd Qu.:1.0000     \n",
       " Max.   :1.0000   Max.   :38.00   Max.   :1.0000    Max.   :1.0000     \n",
       "                                  NA's   :147       NA's   :13         \n",
       " q25a_wk_family_bus timeprefs_patience  riskbehavior        mathbusiness   \n",
       " Min.   :0.0000     Min.   :0.0000     Min.   :-2.538293   Min.   :0.0000  \n",
       " 1st Qu.:1.0000     1st Qu.:0.0000     1st Qu.:-0.692131   1st Qu.:0.5000  \n",
       " Median :1.0000     Median :0.0000     Median :-0.083936   Median :0.6667  \n",
       " Mean   :0.9276     Mean   :0.2765     Mean   :-0.002497   Mean   :0.5990  \n",
       " 3rd Qu.:1.0000     3rd Qu.:0.3333     3rd Qu.: 0.656105   3rd Qu.:0.7500  \n",
       " Max.   :1.0000     Max.   :1.0000     Max.   : 2.965215   Max.   :1.0000  \n",
       " NA's   :1860                                                              \n",
       "   leadership    perceivedcontrol timeprefs_delta     timeprefs_beta     \n",
       " Min.   :1.000   Min.   :1.000    Min.   :-3.299497   Min.   :-3.048114  \n",
       " 1st Qu.:3.857   1st Qu.:4.167    1st Qu.:-0.662538   1st Qu.:-0.682101  \n",
       " Median :4.286   Median :4.333    Median : 0.001506   Median :-0.013883  \n",
       " Mean   :4.194   Mean   :4.337    Mean   : 0.001506   Mean   : 0.002516  \n",
       " 3rd Qu.:4.571   3rd Qu.:4.667    3rd Qu.: 0.643275   3rd Qu.: 0.637755  \n",
       " Max.   :5.000   Max.   :5.000    Max.   : 3.363326   Max.   : 3.857732  \n",
       " NA's   :23      NA's   :14                                              \n",
       " prosocialbehavior    anxiety      selfconfidence  big5extroversion\n",
       " Min.   :1.000     Min.   :1.000   Min.   :1.000   Min.   :1.000   \n",
       " 1st Qu.:4.000     1st Qu.:1.889   1st Qu.:4.333   1st Qu.:2.000   \n",
       " Median :4.293     Median :2.333   Median :4.667   Median :3.000   \n",
       " Mean   :4.293     Mean   :2.391   Mean   :4.583   Mean   :2.733   \n",
       " 3rd Qu.:4.714     3rd Qu.:2.875   3rd Qu.:5.000   3rd Qu.:3.500   \n",
       " Max.   :5.000     Max.   :5.000   Max.   :5.000   Max.   :5.000   \n",
       "                   NA's   :28      NA's   :37                      \n",
       " big5emostability  big5openness   big5conscientious big5agreeable \n",
       " Min.   :1.000    Min.   :1.000   Min.   :1.000     Min.   :1.00  \n",
       " 1st Qu.:3.500    1st Qu.:3.500   1st Qu.:3.500     1st Qu.:3.00  \n",
       " Median :4.000    Median :4.151   Median :4.000     Median :3.50  \n",
       " Mean   :3.865    Mean   :4.151   Mean   :3.892     Mean   :3.62  \n",
       " 3rd Qu.:4.500    3rd Qu.:5.000   3rd Qu.:4.500     3rd Qu.:4.00  \n",
       " Max.   :5.000    Max.   :5.000   Max.   :5.000     Max.   :5.00  \n",
       "                                                                  \n",
       " schoolacceptance currfamwealthstep tenyrwealthstep  takingriskstep  \n",
       " Min.   :1.000    Min.   : 1.000    Min.   : 1.000   Min.   : 1.000  \n",
       " 1st Qu.:4.000    1st Qu.: 4.000    1st Qu.: 7.000   1st Qu.: 5.000  \n",
       " Median :4.250    Median : 5.000    Median : 8.000   Median : 7.000  \n",
       " Mean   :4.268    Mean   : 4.776    Mean   : 8.015   Mean   : 6.756  \n",
       " 3rd Qu.:4.750    3rd Qu.: 6.000    3rd Qu.: 9.000   3rd Qu.: 9.000  \n",
       " Max.   :5.000    Max.   :10.000    Max.   :10.000   Max.   :10.000  \n",
       " NA's   :91       NA's   :83        NA's   :81       NA's   :88      \n",
       "   ravenscore      father_educ2     father_educ3   father_educ4   \n",
       " Min.   : 0.000   Min.   :0.0000   Min.   :0.00   Min.   :0.0000  \n",
       " 1st Qu.: 4.000   1st Qu.:0.0000   1st Qu.:0.00   1st Qu.:0.0000  \n",
       " Median : 6.000   Median :0.0000   Median :0.00   Median :0.0000  \n",
       " Mean   : 5.435   Mean   :0.1667   Mean   :0.13   Mean   :0.1838  \n",
       " 3rd Qu.: 7.000   3rd Qu.:0.0000   3rd Qu.:0.00   3rd Qu.:0.0000  \n",
       " Max.   :10.000   Max.   :1.0000   Max.   :1.00   Max.   :1.0000  \n",
       "                  NA's   :28       NA's   :28     NA's   :28      \n",
       "  father_educ5    father_income2   father_income3   mother_income2  \n",
       " Min.   :0.0000   Min.   :0.0000   Min.   :0.0000   Min.   :0.0000  \n",
       " 1st Qu.:0.0000   1st Qu.:0.0000   1st Qu.:0.0000   1st Qu.:0.0000  \n",
       " Median :0.0000   Median :0.0000   Median :0.0000   Median :0.0000  \n",
       " Mean   :0.4072   Mean   :0.2924   Mean   :0.0384   Mean   :0.1553  \n",
       " 3rd Qu.:1.0000   3rd Qu.:1.0000   3rd Qu.:0.0000   3rd Qu.:0.0000  \n",
       " Max.   :1.0000   Max.   :1.0000   Max.   :1.0000   Max.   :1.0000  \n",
       " NA's   :28       NA's   :37       NA's   :37       NA's   :15      \n",
       " mother_income3      type_house     q13_olevelscore2 q13_olevelscore34\n",
       " Min.   :0.00000   Min.   :0.0000   Min.   :0.0000   Min.   :0.0000   \n",
       " 1st Qu.:0.00000   1st Qu.:1.0000   1st Qu.:0.0000   1st Qu.:0.0000   \n",
       " Median :0.00000   Median :1.0000   Median :0.0000   Median :0.0000   \n",
       " Mean   :0.03199   Mean   :0.8205   Mean   :0.4014   Mean   :0.4522   \n",
       " 3rd Qu.:0.00000   3rd Qu.:1.0000   3rd Qu.:1.0000   3rd Qu.:1.0000   \n",
       " Max.   :1.00000   Max.   :1.0000   Max.   :1.0000   Max.   :1.0000   \n",
       " NA's   :15        NA's   :24       NA's   :72       NA's   :72       "
      ]
     },
     "metadata": {},
     "output_type": "display_data"
    }
   ],
   "source": [
    "# Remove observations missing their censoring time.\n",
    "dim(data)\n",
    "summary(data)\n",
    "skip_vars <- c(names$treatment, names$outcome)\n",
    "impute <- ck37r::impute_missing_values(data,\n",
    "                                       skip_vars = skip_vars)"
   ]
  },
  {
   "cell_type": "code",
   "execution_count": 6,
   "metadata": {},
   "outputs": [
    {
     "data": {
      "text/html": [
       "<dl class=dl-horizontal>\n",
       "\t<dt>ever_self_employed</dt>\n",
       "\t\t<dd>0</dd>\n",
       "\t<dt>log_tot</dt>\n",
       "\t\t<dd>712</dd>\n",
       "\t<dt>treated</dt>\n",
       "\t\t<dd>0</dd>\n",
       "\t<dt>treated.1</dt>\n",
       "\t\t<dd>0</dd>\n",
       "\t<dt>gender</dt>\n",
       "\t\t<dd>0</dd>\n",
       "\t<dt>age</dt>\n",
       "\t\t<dd>0</dd>\n",
       "\t<dt>q06_dayorboarding</dt>\n",
       "\t\t<dd>0</dd>\n",
       "\t<dt>q25_family_business</dt>\n",
       "\t\t<dd>0</dd>\n",
       "\t<dt>q25a_wk_family_bus</dt>\n",
       "\t\t<dd>0</dd>\n",
       "\t<dt>timeprefs_patience</dt>\n",
       "\t\t<dd>0</dd>\n",
       "\t<dt>riskbehavior</dt>\n",
       "\t\t<dd>0</dd>\n",
       "\t<dt>mathbusiness</dt>\n",
       "\t\t<dd>0</dd>\n",
       "\t<dt>leadership</dt>\n",
       "\t\t<dd>0</dd>\n",
       "\t<dt>perceivedcontrol</dt>\n",
       "\t\t<dd>0</dd>\n",
       "\t<dt>timeprefs_delta</dt>\n",
       "\t\t<dd>0</dd>\n",
       "\t<dt>timeprefs_beta</dt>\n",
       "\t\t<dd>0</dd>\n",
       "\t<dt>prosocialbehavior</dt>\n",
       "\t\t<dd>0</dd>\n",
       "\t<dt>anxiety</dt>\n",
       "\t\t<dd>0</dd>\n",
       "\t<dt>selfconfidence</dt>\n",
       "\t\t<dd>0</dd>\n",
       "\t<dt>big5extroversion</dt>\n",
       "\t\t<dd>0</dd>\n",
       "\t<dt>big5emostability</dt>\n",
       "\t\t<dd>0</dd>\n",
       "\t<dt>big5openness</dt>\n",
       "\t\t<dd>0</dd>\n",
       "\t<dt>big5conscientious</dt>\n",
       "\t\t<dd>0</dd>\n",
       "\t<dt>big5agreeable</dt>\n",
       "\t\t<dd>0</dd>\n",
       "\t<dt>schoolacceptance</dt>\n",
       "\t\t<dd>0</dd>\n",
       "\t<dt>currfamwealthstep</dt>\n",
       "\t\t<dd>0</dd>\n",
       "\t<dt>tenyrwealthstep</dt>\n",
       "\t\t<dd>0</dd>\n",
       "\t<dt>takingriskstep</dt>\n",
       "\t\t<dd>0</dd>\n",
       "\t<dt>ravenscore</dt>\n",
       "\t\t<dd>0</dd>\n",
       "\t<dt>father_educ2</dt>\n",
       "\t\t<dd>0</dd>\n",
       "\t<dt>father_educ3</dt>\n",
       "\t\t<dd>0</dd>\n",
       "\t<dt>father_educ4</dt>\n",
       "\t\t<dd>0</dd>\n",
       "\t<dt>father_educ5</dt>\n",
       "\t\t<dd>0</dd>\n",
       "\t<dt>father_income2</dt>\n",
       "\t\t<dd>0</dd>\n",
       "\t<dt>father_income3</dt>\n",
       "\t\t<dd>0</dd>\n",
       "\t<dt>mother_income2</dt>\n",
       "\t\t<dd>0</dd>\n",
       "\t<dt>mother_income3</dt>\n",
       "\t\t<dd>0</dd>\n",
       "\t<dt>type_house</dt>\n",
       "\t\t<dd>0</dd>\n",
       "\t<dt>q13_olevelscore2</dt>\n",
       "\t\t<dd>0</dd>\n",
       "\t<dt>q13_olevelscore34</dt>\n",
       "\t\t<dd>0</dd>\n",
       "\t<dt>miss_log_tot</dt>\n",
       "\t\t<dd>0</dd>\n",
       "\t<dt>miss_q06_dayorboarding</dt>\n",
       "\t\t<dd>0</dd>\n",
       "\t<dt>miss_q25_family_business</dt>\n",
       "\t\t<dd>0</dd>\n",
       "\t<dt>miss_q25a_wk_family_bus</dt>\n",
       "\t\t<dd>0</dd>\n",
       "\t<dt>miss_leadership</dt>\n",
       "\t\t<dd>0</dd>\n",
       "\t<dt>miss_perceivedcontrol</dt>\n",
       "\t\t<dd>0</dd>\n",
       "\t<dt>miss_anxiety</dt>\n",
       "\t\t<dd>0</dd>\n",
       "\t<dt>miss_selfconfidence</dt>\n",
       "\t\t<dd>0</dd>\n",
       "\t<dt>miss_schoolacceptance</dt>\n",
       "\t\t<dd>0</dd>\n",
       "\t<dt>miss_currfamwealthstep</dt>\n",
       "\t\t<dd>0</dd>\n",
       "\t<dt>miss_tenyrwealthstep</dt>\n",
       "\t\t<dd>0</dd>\n",
       "\t<dt>miss_takingriskstep</dt>\n",
       "\t\t<dd>0</dd>\n",
       "\t<dt>miss_father_educ2</dt>\n",
       "\t\t<dd>0</dd>\n",
       "\t<dt>miss_father_income2</dt>\n",
       "\t\t<dd>0</dd>\n",
       "\t<dt>miss_mother_income2</dt>\n",
       "\t\t<dd>0</dd>\n",
       "\t<dt>miss_type_house</dt>\n",
       "\t\t<dd>0</dd>\n",
       "\t<dt>miss_q13_olevelscore2</dt>\n",
       "\t\t<dd>0</dd>\n",
       "</dl>\n"
      ],
      "text/latex": [
       "\\begin{description*}\n",
       "\\item[ever\\textbackslash{}\\_self\\textbackslash{}\\_employed] 0\n",
       "\\item[log\\textbackslash{}\\_tot] 712\n",
       "\\item[treated] 0\n",
       "\\item[treated.1] 0\n",
       "\\item[gender] 0\n",
       "\\item[age] 0\n",
       "\\item[q06\\textbackslash{}\\_dayorboarding] 0\n",
       "\\item[q25\\textbackslash{}\\_family\\textbackslash{}\\_business] 0\n",
       "\\item[q25a\\textbackslash{}\\_wk\\textbackslash{}\\_family\\textbackslash{}\\_bus] 0\n",
       "\\item[timeprefs\\textbackslash{}\\_patience] 0\n",
       "\\item[riskbehavior] 0\n",
       "\\item[mathbusiness] 0\n",
       "\\item[leadership] 0\n",
       "\\item[perceivedcontrol] 0\n",
       "\\item[timeprefs\\textbackslash{}\\_delta] 0\n",
       "\\item[timeprefs\\textbackslash{}\\_beta] 0\n",
       "\\item[prosocialbehavior] 0\n",
       "\\item[anxiety] 0\n",
       "\\item[selfconfidence] 0\n",
       "\\item[big5extroversion] 0\n",
       "\\item[big5emostability] 0\n",
       "\\item[big5openness] 0\n",
       "\\item[big5conscientious] 0\n",
       "\\item[big5agreeable] 0\n",
       "\\item[schoolacceptance] 0\n",
       "\\item[currfamwealthstep] 0\n",
       "\\item[tenyrwealthstep] 0\n",
       "\\item[takingriskstep] 0\n",
       "\\item[ravenscore] 0\n",
       "\\item[father\\textbackslash{}\\_educ2] 0\n",
       "\\item[father\\textbackslash{}\\_educ3] 0\n",
       "\\item[father\\textbackslash{}\\_educ4] 0\n",
       "\\item[father\\textbackslash{}\\_educ5] 0\n",
       "\\item[father\\textbackslash{}\\_income2] 0\n",
       "\\item[father\\textbackslash{}\\_income3] 0\n",
       "\\item[mother\\textbackslash{}\\_income2] 0\n",
       "\\item[mother\\textbackslash{}\\_income3] 0\n",
       "\\item[type\\textbackslash{}\\_house] 0\n",
       "\\item[q13\\textbackslash{}\\_olevelscore2] 0\n",
       "\\item[q13\\textbackslash{}\\_olevelscore34] 0\n",
       "\\item[miss\\textbackslash{}\\_log\\textbackslash{}\\_tot] 0\n",
       "\\item[miss\\textbackslash{}\\_q06\\textbackslash{}\\_dayorboarding] 0\n",
       "\\item[miss\\textbackslash{}\\_q25\\textbackslash{}\\_family\\textbackslash{}\\_business] 0\n",
       "\\item[miss\\textbackslash{}\\_q25a\\textbackslash{}\\_wk\\textbackslash{}\\_family\\textbackslash{}\\_bus] 0\n",
       "\\item[miss\\textbackslash{}\\_leadership] 0\n",
       "\\item[miss\\textbackslash{}\\_perceivedcontrol] 0\n",
       "\\item[miss\\textbackslash{}\\_anxiety] 0\n",
       "\\item[miss\\textbackslash{}\\_selfconfidence] 0\n",
       "\\item[miss\\textbackslash{}\\_schoolacceptance] 0\n",
       "\\item[miss\\textbackslash{}\\_currfamwealthstep] 0\n",
       "\\item[miss\\textbackslash{}\\_tenyrwealthstep] 0\n",
       "\\item[miss\\textbackslash{}\\_takingriskstep] 0\n",
       "\\item[miss\\textbackslash{}\\_father\\textbackslash{}\\_educ2] 0\n",
       "\\item[miss\\textbackslash{}\\_father\\textbackslash{}\\_income2] 0\n",
       "\\item[miss\\textbackslash{}\\_mother\\textbackslash{}\\_income2] 0\n",
       "\\item[miss\\textbackslash{}\\_type\\textbackslash{}\\_house] 0\n",
       "\\item[miss\\textbackslash{}\\_q13\\textbackslash{}\\_olevelscore2] 0\n",
       "\\end{description*}\n"
      ],
      "text/markdown": [
       "ever_self_employed\n",
       ":   0log_tot\n",
       ":   712treated\n",
       ":   0treated.1\n",
       ":   0gender\n",
       ":   0age\n",
       ":   0q06_dayorboarding\n",
       ":   0q25_family_business\n",
       ":   0q25a_wk_family_bus\n",
       ":   0timeprefs_patience\n",
       ":   0riskbehavior\n",
       ":   0mathbusiness\n",
       ":   0leadership\n",
       ":   0perceivedcontrol\n",
       ":   0timeprefs_delta\n",
       ":   0timeprefs_beta\n",
       ":   0prosocialbehavior\n",
       ":   0anxiety\n",
       ":   0selfconfidence\n",
       ":   0big5extroversion\n",
       ":   0big5emostability\n",
       ":   0big5openness\n",
       ":   0big5conscientious\n",
       ":   0big5agreeable\n",
       ":   0schoolacceptance\n",
       ":   0currfamwealthstep\n",
       ":   0tenyrwealthstep\n",
       ":   0takingriskstep\n",
       ":   0ravenscore\n",
       ":   0father_educ2\n",
       ":   0father_educ3\n",
       ":   0father_educ4\n",
       ":   0father_educ5\n",
       ":   0father_income2\n",
       ":   0father_income3\n",
       ":   0mother_income2\n",
       ":   0mother_income3\n",
       ":   0type_house\n",
       ":   0q13_olevelscore2\n",
       ":   0q13_olevelscore34\n",
       ":   0miss_log_tot\n",
       ":   0miss_q06_dayorboarding\n",
       ":   0miss_q25_family_business\n",
       ":   0miss_q25a_wk_family_bus\n",
       ":   0miss_leadership\n",
       ":   0miss_perceivedcontrol\n",
       ":   0miss_anxiety\n",
       ":   0miss_selfconfidence\n",
       ":   0miss_schoolacceptance\n",
       ":   0miss_currfamwealthstep\n",
       ":   0miss_tenyrwealthstep\n",
       ":   0miss_takingriskstep\n",
       ":   0miss_father_educ2\n",
       ":   0miss_father_income2\n",
       ":   0miss_mother_income2\n",
       ":   0miss_type_house\n",
       ":   0miss_q13_olevelscore2\n",
       ":   0\n",
       "\n"
      ],
      "text/plain": [
       "      ever_self_employed                  log_tot                  treated \n",
       "                       0                      712                        0 \n",
       "               treated.1                   gender                      age \n",
       "                       0                        0                        0 \n",
       "       q06_dayorboarding      q25_family_business       q25a_wk_family_bus \n",
       "                       0                        0                        0 \n",
       "      timeprefs_patience             riskbehavior             mathbusiness \n",
       "                       0                        0                        0 \n",
       "              leadership         perceivedcontrol          timeprefs_delta \n",
       "                       0                        0                        0 \n",
       "          timeprefs_beta        prosocialbehavior                  anxiety \n",
       "                       0                        0                        0 \n",
       "          selfconfidence         big5extroversion         big5emostability \n",
       "                       0                        0                        0 \n",
       "            big5openness        big5conscientious            big5agreeable \n",
       "                       0                        0                        0 \n",
       "        schoolacceptance        currfamwealthstep          tenyrwealthstep \n",
       "                       0                        0                        0 \n",
       "          takingriskstep               ravenscore             father_educ2 \n",
       "                       0                        0                        0 \n",
       "            father_educ3             father_educ4             father_educ5 \n",
       "                       0                        0                        0 \n",
       "          father_income2           father_income3           mother_income2 \n",
       "                       0                        0                        0 \n",
       "          mother_income3               type_house         q13_olevelscore2 \n",
       "                       0                        0                        0 \n",
       "       q13_olevelscore34             miss_log_tot   miss_q06_dayorboarding \n",
       "                       0                        0                        0 \n",
       "miss_q25_family_business  miss_q25a_wk_family_bus          miss_leadership \n",
       "                       0                        0                        0 \n",
       "   miss_perceivedcontrol             miss_anxiety      miss_selfconfidence \n",
       "                       0                        0                        0 \n",
       "   miss_schoolacceptance   miss_currfamwealthstep     miss_tenyrwealthstep \n",
       "                       0                        0                        0 \n",
       "     miss_takingriskstep        miss_father_educ2      miss_father_income2 \n",
       "                       0                        0                        0 \n",
       "     miss_mother_income2          miss_type_house    miss_q13_olevelscore2 \n",
       "                       0                        0                        0 "
      ]
     },
     "metadata": {},
     "output_type": "display_data"
    }
   ],
   "source": [
    "# Review missing data for all covariates.\n",
    "# Only the outcome variable should have missing data at this point.\n",
    "data <- impute$data\n",
    "colSums(is.na(data))"
   ]
  },
  {
   "cell_type": "code",
   "execution_count": 7,
   "metadata": {},
   "outputs": [],
   "source": [
    "## Estimation of causal efects\n",
    "\n",
    "Y1 <- data$ever_self_employed\n",
    "Y2 <- data$log_tot[!is.na(data$log_tot)]\n",
    "\n",
    "A1 <- data$treated\n",
    "A2 <- data$treated[!is.na(data$log_tot)]\n",
    "\n",
    "all_covars <- data[, colnames(data) %in% names$covars]\n",
    "\n",
    "W <- all_covars\n",
    "W1 <- all_covars\n",
    "W2 <- subset(data, !is.na(data$log_tot))\n",
    "W2 <- W2[, colnames(data) %in% names$covars]\n",
    "\n",
    "screen1 <- screening(x=W1, y=Y1, method=\"holp\", family = \"binomial\", num.select = 15)$screen\n",
    "screen2 <- screening(x=W2, y=Y2, method=\"holp\", family = \"gaussian\", num.select = 15)$screen\n",
    "screenA <- screening(x=W, y=A1, method=\"holp\", family = \"binomial\", num.select = 15)$screen \n",
    "screenA2 <- screening(x=W2, y=A2, method=\"holp\", family = \"binomial\", num.select = 15)$screen \n",
    "\n",
    "W1 <- W1[,screen1]\n",
    "W2 <- W2[,screen2]\n",
    "\n",
    "# William: added/moved this line here to make code work\n",
    "screenA2 <- screening(x=W2, y=A2, method=\"holp\", family = \"binomial\", num.select = 15)$screen \n",
    "\n",
    "WA <- W[,screenA]\n",
    "WA2 <- W2[,screenA2]"
   ]
  },
  {
   "cell_type": "code",
   "execution_count": 8,
   "metadata": {},
   "outputs": [
    {
     "data": {
      "text/plain": [
       "\n",
       "Call:\n",
       "glm(formula = Y1 ~ A1, family = \"binomial\")\n",
       "\n",
       "Deviance Residuals: \n",
       "   Min      1Q  Median      3Q     Max  \n",
       "-1.306  -1.306   1.054   1.054   1.224  \n",
       "\n",
       "Coefficients:\n",
       "            Estimate Std. Error z value   Pr(>|z|)    \n",
       "(Intercept) -0.10784    0.06268  -1.720     0.0854 .  \n",
       "A1           0.40549    0.07317   5.542 0.00000003 ***\n",
       "---\n",
       "Signif. codes:  0 ‘***’ 0.001 ‘**’ 0.01 ‘*’ 0.05 ‘.’ 0.1 ‘ ’ 1\n",
       "\n",
       "(Dispersion parameter for binomial family taken to be 1)\n",
       "\n",
       "    Null deviance: 5359.0  on 3890  degrees of freedom\n",
       "Residual deviance: 5328.2  on 3889  degrees of freedom\n",
       "AIC: 5332.2\n",
       "\n",
       "Number of Fisher Scoring iterations: 4\n"
      ]
     },
     "metadata": {},
     "output_type": "display_data"
    },
    {
     "data": {
      "text/html": [
       "<strong>(Intercept):</strong> 0.10080197387954"
      ],
      "text/latex": [
       "\\textbf{(Intercept):} 0.10080197387954"
      ],
      "text/markdown": [
       "**(Intercept):** 0.10080197387954"
      ],
      "text/plain": [
       "(Intercept) \n",
       "   0.100802 "
      ]
     },
     "metadata": {},
     "output_type": "display_data"
    },
    {
     "data": {
      "text/plain": [
       "\n",
       "Call:\n",
       "glm(formula = Y2 ~ A2, family = \"gaussian\")\n",
       "\n",
       "Deviance Residuals: \n",
       "    Min       1Q   Median       3Q      Max  \n",
       "-6.6009  -1.0053   0.0917   1.0569   3.4584  \n",
       "\n",
       "Coefficients:\n",
       "            Estimate Std. Error t value Pr(>|t|)    \n",
       "(Intercept)  7.49175    0.05073 147.679   <2e-16 ***\n",
       "A2           0.13687    0.05895   2.322   0.0203 *  \n",
       "---\n",
       "Signif. codes:  0 ‘***’ 0.001 ‘**’ 0.01 ‘*’ 0.05 ‘.’ 0.1 ‘ ’ 1\n",
       "\n",
       "(Dispersion parameter for gaussian family taken to be 2.123154)\n",
       "\n",
       "    Null deviance: 6756.7  on 3178  degrees of freedom\n",
       "Residual deviance: 6745.3  on 3177  degrees of freedom\n",
       "AIC: 11419\n",
       "\n",
       "Number of Fisher Scoring iterations: 2\n"
      ]
     },
     "metadata": {},
     "output_type": "display_data"
    }
   ],
   "source": [
    "# Fit glm model (base model, should have the worst performance)\n",
    "\n",
    "logit2prob <- function(logit){\n",
    "  odds <- exp(logit)\n",
    "  prob <- odds / (1 + odds)\n",
    "  return(prob)\n",
    "}\n",
    "\n",
    "model1 <- glm(formula = Y1 ~ A1, family = \"binomial\")\n",
    "summary(model1)\n",
    "logit_control <- model1$coefficients[1]\n",
    "logit_treated <- model1$coefficients[1] + 1*model1$coefficients[2]\n",
    "b1 <- logit2prob(logit_treated) - logit2prob(logit_control)\n",
    "b1\n",
    "\n",
    "model2 <- glm(formula = Y2 ~ A2, family = \"gaussian\")\n",
    "summary(model2)"
   ]
  },
  {
   "cell_type": "code",
   "execution_count": 9,
   "metadata": {},
   "outputs": [],
   "source": [
    "# Define our Super Learner library\n",
    "\n",
    "g_library <- c(\"SL.mean\",\n",
    "             \"SL.glm\",\n",
    "             \"SL.glm.interaction\")\n",
    "\n",
    "Q_library <- c(\"SL.mean\",\n",
    "             \"SL.glm\",\n",
    "             \"SL.glm.interaction\",\n",
    "             #\"SL.glmnet\",\n",
    "             #\"SL.randomForest\",\n",
    "             #\"SL.bartMachine\",\n",
    "             \"SL.xgboost\")"
   ]
  },
  {
   "cell_type": "code",
   "execution_count": 10,
   "metadata": {},
   "outputs": [],
   "source": [
    "#############################################################\n",
    "# G-computation formula\n",
    "#############################################################\n",
    "\n",
    "np_boot_gcomp <- function(Y, A, W, nrep, family){\n",
    "  X <- cbind(A,W)\n",
    "  print(colnames(X))\n",
    "  # William: wrapped in suppressWarnings() to prevent excessive verbosity\n",
    "  suppressWarnings(\n",
    "    QbarSL <- SuperLearner(Y=as.numeric(Y),\n",
    "                       X=X,\n",
    "                       SL.library = Q_library,\n",
    "                       family = family)\n",
    "    )  \n",
    "  results <- rep(NA, nrep)\n",
    "  n <- NROW(Y)\n",
    "  #stop(\"stop\")\n",
    "  for(i in 1:nrep){\n",
    "    i_boot <- sample(1:nrow(W), size = n, replace = TRUE)\n",
    "    W_boot <- X[i_boot,]\n",
    "    W1_boot <- W0_boot <- W_boot\n",
    "    W1_boot$A <- 1\n",
    "    W0_boot$A <- 0  \n",
    "    #psi_bootstrap <- G_comp(Y = Y_b, A = A_b, W = W_b, family = family)\n",
    "    # William: wrapped in suppressWarnings() to prevent excessive verbosity\n",
    "    suppressWarnings(\n",
    "      Qbar1W <- predict(QbarSL, newdata=W1_boot, type=\"response\")$pred\n",
    "      ) \n",
    "    # William: wrapped in suppressWarnings() to prevent excessive verbosity\n",
    "    suppressWarnings(\n",
    "      Qbar0W <- predict(QbarSL, newdata=W0_boot, type=\"response\")$pred\n",
    "      ) \n",
    "    psi_bootstrap <- (Qbar1W - Qbar0W)\n",
    "    results[i] <- psi_bootstrap\n",
    "  }\n",
    "  return(results)\n",
    "}"
   ]
  },
  {
   "cell_type": "code",
   "execution_count": 11,
   "metadata": {},
   "outputs": [
    {
     "name": "stdout",
     "output_type": "stream",
     "text": [
      " [1] \"A\"                 \"gender\"            \"age\"              \n",
      " [4] \"q06_dayorboarding\" \"treated\"           \"type_house\"       \n",
      " [7] \"mother_income2\"    \"father_income3\"    \"father_income2\"   \n",
      "[10] \"prosocialbehavior\" \"big5emostability\"  \"currfamwealthstep\"\n",
      "[13] \"ravenscore\"        \"big5agreeable\"     \"leadership\"       \n",
      "[16] \"big5openness\"     \n"
     ]
    },
    {
     "name": "stderr",
     "output_type": "stream",
     "text": [
      "Warning message in results[i] <- psi_bootstrap:\n",
      "“number of items to replace is not a multiple of replacement length”Warning message in results[i] <- psi_bootstrap:\n",
      "“number of items to replace is not a multiple of replacement length”"
     ]
    },
    {
     "data": {
      "text/plain": [
       "   Min. 1st Qu.  Median    Mean 3rd Qu.    Max. \n",
       "0.09184 0.09650 0.10116 0.10116 0.10582 0.11047 "
      ]
     },
     "metadata": {},
     "output_type": "display_data"
    },
    {
     "name": "stdout",
     "output_type": "stream",
     "text": [
      "[1] 0.1011595\n",
      "[1] 0.01317395\n",
      "[1] 0.00000000002843003\n"
     ]
    },
    {
     "data": {
      "text/html": [
       "<dl class=dl-horizontal>\n",
       "\t<dt>2.5%</dt>\n",
       "\t\t<dd>0.0923098789087468</dd>\n",
       "\t<dt>97.5%</dt>\n",
       "\t\t<dd>0.110009125279482</dd>\n",
       "</dl>\n"
      ],
      "text/latex": [
       "\\begin{description*}\n",
       "\\item[2.5\\textbackslash{}\\%] 0.0923098789087468\n",
       "\\item[97.5\\textbackslash{}\\%] 0.110009125279482\n",
       "\\end{description*}\n"
      ],
      "text/markdown": [
       "2.5%\n",
       ":   0.092309878908746897.5%\n",
       ":   0.110009125279482\n",
       "\n"
      ],
      "text/plain": [
       "      2.5%      97.5% \n",
       "0.09230988 0.11000913 "
      ]
     },
     "metadata": {},
     "output_type": "display_data"
    }
   ],
   "source": [
    "# For business creation\n",
    "# William: temporary change nrep to 5, so that can test code more quickly\n",
    "g_comp_boot <- np_boot_gcomp(Y=Y1, A=A1, W=W1, nrep=2, family = \"binomial\")\n",
    "summary(g_comp_boot) \n",
    "b_iptw <- mean(g_comp_boot)\n",
    "print(b_iptw)\n",
    "sd_iptw <- sd(g_comp_boot)\n",
    "print(sd_iptw)\n",
    "t_stat <- b_iptw/sd_iptw\n",
    "p_val <- dt(t_stat, df = n-1, log=FALSE)\n",
    "print(p_val)\n",
    "quantile(g_comp_boot, probs = c(0.025,0.975))"
   ]
  },
  {
   "cell_type": "code",
   "execution_count": 12,
   "metadata": {},
   "outputs": [
    {
     "name": "stdout",
     "output_type": "stream",
     "text": [
      " [1] \"A\"                   \"gender\"              \"q13_olevelscore34\"  \n",
      " [4] \"big5emostability\"    \"timeprefs_delta\"     \"treated\"            \n",
      " [7] \"q25_family_business\" \"q06_dayorboarding\"   \"q13_olevelscore2\"   \n",
      "[10] \"age\"                 \"tenyrwealthstep\"     \"timeprefs_beta\"     \n",
      "[13] \"leadership\"          \"father_educ4\"        \"mother_income3\"     \n",
      "[16] \"anxiety\"            \n"
     ]
    },
    {
     "name": "stderr",
     "output_type": "stream",
     "text": [
      "Warning message in results[i] <- psi_bootstrap:\n",
      "“number of items to replace is not a multiple of replacement length”Warning message in results[i] <- psi_bootstrap:\n",
      "“number of items to replace is not a multiple of replacement length”"
     ]
    },
    {
     "data": {
      "text/plain": [
       "   Min. 1st Qu.  Median    Mean 3rd Qu.    Max. \n",
       " 0.1760  0.1875  0.1990  0.1990  0.2105  0.2220 "
      ]
     },
     "metadata": {},
     "output_type": "display_data"
    },
    {
     "name": "stdout",
     "output_type": "stream",
     "text": [
      "[1] 0.1989942\n",
      "[1] 0.03250458\n",
      "[1] 0.00000004248412\n"
     ]
    },
    {
     "data": {
      "text/html": [
       "<dl class=dl-horizontal>\n",
       "\t<dt>2.5%</dt>\n",
       "\t\t<dd>0.177159252121102</dd>\n",
       "\t<dt>97.5%</dt>\n",
       "\t\t<dd>0.220829246242875</dd>\n",
       "</dl>\n"
      ],
      "text/latex": [
       "\\begin{description*}\n",
       "\\item[2.5\\textbackslash{}\\%] 0.177159252121102\n",
       "\\item[97.5\\textbackslash{}\\%] 0.220829246242875\n",
       "\\end{description*}\n"
      ],
      "text/markdown": [
       "2.5%\n",
       ":   0.17715925212110297.5%\n",
       ":   0.220829246242875\n",
       "\n"
      ],
      "text/plain": [
       "     2.5%     97.5% \n",
       "0.1771593 0.2208292 "
      ]
     },
     "metadata": {},
     "output_type": "display_data"
    }
   ],
   "source": [
    "# For log of total earnings\n",
    "# William: temporary change to nrep=5 so can can test code more quickly\n",
    "tot_g_comp_boot <- np_boot_gcomp(Y=Y2, A=A2, W=W2, nrep=2, family = \"gaussian\") \n",
    "summary(tot_g_comp_boot)\n",
    "b_iptw <- mean(tot_g_comp_boot)\n",
    "print(b_iptw)\n",
    "sd_iptw <- sd(tot_g_comp_boot)\n",
    "print(sd_iptw)\n",
    "t_stat <- b_iptw/sd_iptw\n",
    "p_val <- dt(t_stat, df = n-1, log=FALSE)\n",
    "print(p_val)\n",
    "quantile(tot_g_comp_boot, probs = c(0.025,0.975))"
   ]
  },
  {
   "cell_type": "code",
   "execution_count": 13,
   "metadata": {},
   "outputs": [],
   "source": [
    "#############################################################\n",
    "# IPTW\n",
    "#############################################################\n",
    "\n",
    "iptw <- function(Y, A, X, family){\n",
    "  n <- NROW(Y)\n",
    "  print(n)\n",
    "  # William: wrapped in suppressWarnings() to prevent excessive verbosity\n",
    "  suppressWarnings(\n",
    "    propensity_score <- SuperLearner(Y=A,\n",
    "                   X=X,\n",
    "                   SL.library = g_library,\n",
    "                   family = family)\n",
    "    ) \n",
    "  # Obtain predicted probability of treatment \n",
    "  # William: wrapped in suppressWarnings() to prevent excessive verbosity\n",
    "  suppressWarnings(\n",
    "    pred.g1W <- predict(propensity_score, newX = X, type = 'response')$pred\n",
    "    ) \n",
    "  # Probability of not being treated\n",
    "  pred.g0W <- 1 - pred.g1W\n",
    "  # Create vector gAW\n",
    "  gAW <- rep(NA, n)\n",
    "  gAW[A==1] <- pred.g1W[A==1]\n",
    "  gAW[A==0] <- pred.g0W[A==0]\n",
    "  # Create vector with inverse of predicted probability\n",
    "  wt <- 1/gAW\n",
    "  # Implement stabilized IPTW estimator (a.k.a. the modified Horvitz-Thompson estimator)\n",
    "  Psi_hat <- mean(as.numeric(A==1)*wt*Y)/mean(as.numeric(A==1)*wt) -\n",
    "             mean(as.numeric(A==0)*wt*Y)/mean(as.numeric(A==0)*wt)\n",
    "  return(Psi_hat)\n",
    "  }\n",
    "\n",
    "np_boot <- function(Y, A, X, family, nrep){\n",
    "  results <- rep(NA, nrep)\n",
    "  n <- NROW(Y)\n",
    "  df <- cbind(Y,A,X)\n",
    "  for(i in 1:nrep){\n",
    "    i_boot <- sample(1:nrow(df), size = n, replace = TRUE)\n",
    "    df_bootstrap <- df[i_boot,]\n",
    "    Y_b <- df_bootstrap[,1]\n",
    "    A_b <- df_bootstrap[,2]\n",
    "    W_b <- subset(df_bootstrap, select = -c(1,2))\n",
    "    psi_bootstrap <- iptw(Y = Y_b, A = A_b, X = W_b, family = family)\n",
    "    results[i] <- psi_bootstrap\n",
    "  }\n",
    "  return(results)\n",
    "}"
   ]
  },
  {
   "cell_type": "code",
   "execution_count": 14,
   "metadata": {},
   "outputs": [
    {
     "name": "stdout",
     "output_type": "stream",
     "text": [
      "[1] 3891\n"
     ]
    },
    {
     "data": {
      "text/html": [
       "0.10080197387954"
      ],
      "text/latex": [
       "0.10080197387954"
      ],
      "text/markdown": [
       "0.10080197387954"
      ],
      "text/plain": [
       "[1] 0.100802"
      ]
     },
     "metadata": {},
     "output_type": "display_data"
    },
    {
     "name": "stdout",
     "output_type": "stream",
     "text": [
      "[1] 3891\n",
      "[1] 3891\n"
     ]
    },
    {
     "data": {
      "text/plain": [
       "   Min. 1st Qu.  Median    Mean 3rd Qu.    Max. \n",
       "0.09234 0.10781 0.12328 0.12328 0.13874 0.15421 "
      ]
     },
     "metadata": {},
     "output_type": "display_data"
    },
    {
     "name": "stdout",
     "output_type": "stream",
     "text": [
      "[1] 0.1232772\n",
      "[1] 0.04374485\n",
      "[1] 0.008398964\n"
     ]
    },
    {
     "data": {
      "text/html": [
       "<dl class=dl-horizontal>\n",
       "\t<dt>2.5%</dt>\n",
       "\t\t<dd>0.0938915232029965</dd>\n",
       "\t<dt>97.5%</dt>\n",
       "\t\t<dd>0.152662849182116</dd>\n",
       "</dl>\n"
      ],
      "text/latex": [
       "\\begin{description*}\n",
       "\\item[2.5\\textbackslash{}\\%] 0.0938915232029965\n",
       "\\item[97.5\\textbackslash{}\\%] 0.152662849182116\n",
       "\\end{description*}\n"
      ],
      "text/markdown": [
       "2.5%\n",
       ":   0.093891523202996597.5%\n",
       ":   0.152662849182116\n",
       "\n"
      ],
      "text/plain": [
       "      2.5%      97.5% \n",
       "0.09389152 0.15266285 "
      ]
     },
     "metadata": {},
     "output_type": "display_data"
    }
   ],
   "source": [
    "# IPTW for business creation\n",
    "ate_iptw <- iptw(Y=Y1, A=A1, X=WA, family = \"binomial\")\n",
    "ate_iptw\n",
    "\n",
    "# William: added argument, family = \"binomial\" -- to avoid error 'argument \"family\" is missing, with no default'\n",
    "\n",
    "# William: temporary change to nrep =5 to make code more quickly testable\n",
    "iptw_bootstrap <- np_boot(Y=Y1, A=A1, X=WA, nrep = 2, family=\"binomial\") \n",
    "summary(iptw_bootstrap)\n",
    "b_iptw <- mean(iptw_bootstrap)\n",
    "print(b_iptw)\n",
    "sd_iptw <- sd(iptw_bootstrap)\n",
    "print(sd_iptw)\n",
    "t_stat <- b_iptw/sd_iptw\n",
    "p_val <- dt(t_stat, df = n-1, log=FALSE)\n",
    "print(p_val)\n",
    "quantile(iptw_bootstrap, probs = c(0.025,0.975))"
   ]
  },
  {
   "cell_type": "code",
   "execution_count": 15,
   "metadata": {},
   "outputs": [
    {
     "name": "stdout",
     "output_type": "stream",
     "text": [
      "[1] 3179\n"
     ]
    },
    {
     "data": {
      "text/html": [
       "0.136872104521482"
      ],
      "text/latex": [
       "0.136872104521482"
      ],
      "text/markdown": [
       "0.136872104521482"
      ],
      "text/plain": [
       "[1] 0.1368721"
      ]
     },
     "metadata": {},
     "output_type": "display_data"
    },
    {
     "name": "stdout",
     "output_type": "stream",
     "text": [
      "[1] 3179\n",
      "[1] 3179\n"
     ]
    },
    {
     "data": {
      "text/plain": [
       "   Min. 1st Qu.  Median    Mean 3rd Qu.    Max. \n",
       " 0.1011  0.1111  0.1211  0.1211  0.1311  0.1411 "
      ]
     },
     "metadata": {},
     "output_type": "display_data"
    },
    {
     "name": "stdout",
     "output_type": "stream",
     "text": [
      "[1] 0.1211078\n",
      "[1] 0.02828603\n",
      "[1] 0.00008143755\n"
     ]
    },
    {
     "data": {
      "text/html": [
       "<dl class=dl-horizontal>\n",
       "\t<dt>2.5%</dt>\n",
       "\t\t<dd>0.10210662738858</dd>\n",
       "\t<dt>97.5%</dt>\n",
       "\t\t<dd>0.140108994703707</dd>\n",
       "</dl>\n"
      ],
      "text/latex": [
       "\\begin{description*}\n",
       "\\item[2.5\\textbackslash{}\\%] 0.10210662738858\n",
       "\\item[97.5\\textbackslash{}\\%] 0.140108994703707\n",
       "\\end{description*}\n"
      ],
      "text/markdown": [
       "2.5%\n",
       ":   0.1021066273885897.5%\n",
       ":   0.140108994703707\n",
       "\n"
      ],
      "text/plain": [
       "     2.5%     97.5% \n",
       "0.1021066 0.1401090 "
      ]
     },
     "metadata": {},
     "output_type": "display_data"
    }
   ],
   "source": [
    "# IPTW log total earnings\n",
    "\n",
    "total_earn_iptw <- iptw(Y=Y2, A=A2, X=WA2, family = \"gaussian\")\n",
    "total_earn_iptw\n",
    "\n",
    "# William: temporary change to nrep=1 for quicker testing\n",
    "total_iptw_bootstrap <- np_boot(Y=Y2, A=A2, X=WA2, nrep = 2, family = \"gaussian\") \n",
    "summary(total_iptw_bootstrap)\n",
    "b_iptw <- mean(total_iptw_bootstrap)\n",
    "print(b_iptw)\n",
    "sd_iptw <- sd(total_iptw_bootstrap)\n",
    "print(sd_iptw)\n",
    "t_stat <- b_iptw/sd_iptw\n",
    "p_val <- dt(t_stat, df = n-1, log=FALSE)\n",
    "print(p_val)\n",
    "quantile(total_iptw_bootstrap, probs = c(0.025,0.975))"
   ]
  },
  {
   "cell_type": "code",
   "execution_count": 16,
   "metadata": {},
   "outputs": [
    {
     "data": {
      "text/plain": [
       " Additive Effect\n",
       "   Parameter Estimate:  0.10704\n",
       "   Estimated Variance:  0.00028814\n",
       "              p-value:  0.00000000028623\n",
       "    95% Conf Interval: (0.073773, 0.14031) \n",
       "\n",
       " Additive Effect among the Treated\n",
       "   Parameter Estimate:  0.10704\n",
       "   Estimated Variance:  0.00028748\n",
       "              p-value:  0.00000000027325\n",
       "    95% Conf Interval: (0.07381, 0.14028) \n",
       "\n",
       " Additive Effect among the Controls\n",
       "   Parameter Estimate:  0.10704\n",
       "   Estimated Variance:  0.00029013\n",
       "              p-value:  0.00000000032921\n",
       "    95% Conf Interval: (0.073658, 0.14043) \n",
       "\n",
       " Relative Risk\n",
       "   Parameter Estimate:  1.2285\n",
       "              p-value:  0.0000000028264\n",
       "    95% Conf Interval: (1.1479, 1.3148) \n",
       "\n",
       "              log(RR):  0.20578\n",
       "    variance(log(RR)):  0.0011996 \n",
       "\n",
       " Odds Ratio\n",
       "   Parameter Estimate:  1.5383\n",
       "              p-value:  0.00000000032556\n",
       "    95% Conf Interval: (1.345, 1.7594) \n",
       "\n",
       "              log(OR):  0.43067\n",
       "    variance(log(OR)):  0.0046938 "
      ]
     },
     "metadata": {},
     "output_type": "display_data"
    },
    {
     "data": {
      "text/plain": [
       " Additive Effect\n",
       "   Parameter Estimate:  0.14211\n",
       "   Estimated Variance:  0.0029812\n",
       "              p-value:  0.0092484\n",
       "    95% Conf Interval: (0.035094, 0.24913) \n",
       "\n",
       " Additive Effect among the Treated\n",
       "   Parameter Estimate:  0.14211\n",
       "   Estimated Variance:  0.0029746\n",
       "              p-value:  0.009171\n",
       "    95% Conf Interval: (0.035212, 0.24901) \n",
       "\n",
       " Additive Effect among the Controls\n",
       "   Parameter Estimate:  0.14211\n",
       "   Estimated Variance:  0.0030015\n",
       "              p-value:  0.009489\n",
       "    95% Conf Interval: (0.03473, 0.24949) "
      ]
     },
     "metadata": {},
     "output_type": "display_data"
    }
   ],
   "source": [
    "###################################################\n",
    "# TMLE \n",
    "###################################################\n",
    "\n",
    "# Business creation\n",
    "tmle <- tmle(Y = as.numeric(Y1),\n",
    "                A = as.numeric(A1),\n",
    "                W = W1,\n",
    "                gform = \"A~1\",\n",
    "                family = \"binomial\",\n",
    "                #g.SL.library = g_library,\n",
    "                Q.SL.library = Q_library,\n",
    "                fluctuation = \"logistic\") #,\n",
    "                #V=10)\n",
    "tmle"
   ]
  },
  {
   "cell_type": "code",
   "execution_count": null,
   "metadata": {},
   "outputs": [],
   "source": [
    "# Log of total earnings\n",
    "tot_tmle <- tmle(Y = as.numeric(Y2),\n",
    "                A = as.numeric(A2),\n",
    "                W = W2,\n",
    "                gform = \"A~1\",\n",
    "                family = \"gaussian\",\n",
    "                #g.SL.library = g_library,\n",
    "                Q.SL.library = Q_library,\n",
    "                fluctuation = \"logistic\") #,\n",
    "                #V=10)\n",
    "tot_tmle"
   ]
  }
 ],
 "metadata": {
  "kernelspec": {
   "display_name": "R",
   "language": "R",
   "name": "ir"
  },
  "language_info": {
   "codemirror_mode": "r",
   "file_extension": ".r",
   "mimetype": "text/x-r-source",
   "name": "R",
   "pygments_lexer": "r",
   "version": "3.4.3"
  }
 },
 "nbformat": 4,
 "nbformat_minor": 2
}
